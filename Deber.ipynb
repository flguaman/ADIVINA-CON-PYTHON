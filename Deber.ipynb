{
  "nbformat": 4,
  "nbformat_minor": 0,
  "metadata": {
    "colab": {
      "provenance": [],
      "authorship_tag": "ABX9TyNUWqWm3ijJfNK3lwze5MQV",
      "include_colab_link": true
    },
    "kernelspec": {
      "name": "ir",
      "display_name": "R"
    },
    "language_info": {
      "name": "R"
    }
  },
  "cells": [
    {
      "cell_type": "markdown",
      "metadata": {
        "id": "view-in-github",
        "colab_type": "text"
      },
      "source": [
        "<a href=\"https://colab.research.google.com/github/flguaman/ADIVINA-CON-PYTHON/blob/main/Deber.ipynb\" target=\"_parent\"><img src=\"https://colab.research.google.com/assets/colab-badge.svg\" alt=\"Open In Colab\"/></a>"
      ]
    },
    {
      "cell_type": "code",
      "execution_count": 2,
      "metadata": {
        "id": "q5e1s3SshHxs"
      },
      "outputs": [],
      "source": [
        "\n",
        "library(readxl)  # For reading Excel files"
      ]
    },
    {
      "cell_type": "code",
      "source": [
        "data <- read_excel(\"/content/Clase6Tareea.xlsx\", sheet = \"Hoja2\")"
      ],
      "metadata": {
        "id": "TudmQyo3lbd3"
      },
      "execution_count": 3,
      "outputs": []
    },
    {
      "cell_type": "code",
      "source": [
        "print(data)\n"
      ],
      "metadata": {
        "colab": {
          "base_uri": "https://localhost:8080/"
        },
        "id": "K53LoUyKlda6",
        "outputId": "ac5c9257-c6a1-4531-eb66-1b07640c357a"
      },
      "execution_count": 6,
      "outputs": [
        {
          "output_type": "stream",
          "name": "stdout",
          "text": [
            "\u001b[90m# A tibble: 9 × 2\u001b[39m\n",
            "      X     Y\n",
            "  \u001b[3m\u001b[90m<dbl>\u001b[39m\u001b[23m \u001b[3m\u001b[90m<dbl>\u001b[39m\u001b[23m\n",
            "\u001b[90m1\u001b[39m    77    82\n",
            "\u001b[90m2\u001b[39m    50    66\n",
            "\u001b[90m3\u001b[39m    71    78\n",
            "\u001b[90m4\u001b[39m    72    34\n",
            "\u001b[90m5\u001b[39m    81    47\n",
            "\u001b[90m6\u001b[39m    94    85\n",
            "\u001b[90m7\u001b[39m    96    99\n",
            "\u001b[90m8\u001b[39m    99    99\n",
            "\u001b[90m9\u001b[39m    67    68\n"
          ]
        }
      ]
    },
    {
      "cell_type": "code",
      "source": [
        "x <- data$X\n",
        "y <- data$Y"
      ],
      "metadata": {
        "id": "QtWwLx4-lrSa"
      },
      "execution_count": 7,
      "outputs": []
    },
    {
      "cell_type": "code",
      "source": [
        "model <- lm(y ~ x)"
      ],
      "metadata": {
        "id": "eq4iH5Y4luJ8"
      },
      "execution_count": 9,
      "outputs": []
    },
    {
      "cell_type": "code",
      "source": [
        "coefficients <- coef(model)\n",
        "intercept <- coefficients[1]  # b0\n",
        "slope <- coefficients[2]      # b1"
      ],
      "metadata": {
        "id": "wrtcx4hrl3Sx"
      },
      "execution_count": 10,
      "outputs": []
    },
    {
      "cell_type": "code",
      "source": [
        "cat(\"Regression Equation: y = \", intercept, \" + \", slope, \"* x\\n\")"
      ],
      "metadata": {
        "colab": {
          "base_uri": "https://localhost:8080/"
        },
        "id": "fSAzmOIrl75Z",
        "outputId": "b604fb42-2fc5-434f-a91f-c56198b424a9"
      },
      "execution_count": 11,
      "outputs": [
        {
          "output_type": "stream",
          "name": "stdout",
          "text": [
            "Regression Equation: y =  12.06232  +  0.7771416 * x\n"
          ]
        }
      ]
    },
    {
      "cell_type": "code",
      "source": [
        "predicted_y <- intercept + slope * 85\n",
        "cat(\"Predicted Final Exam Score for x = 85: \", predicted_y, \"\\n\")"
      ],
      "metadata": {
        "colab": {
          "base_uri": "https://localhost:8080/"
        },
        "id": "ma9Rso4cmJmD",
        "outputId": "5fed4f9e-71f5-4705-81eb-703fda64869b"
      },
      "execution_count": 12,
      "outputs": [
        {
          "output_type": "stream",
          "name": "stdout",
          "text": [
            "Predicted Final Exam Score for x = 85:  78.11936 \n"
          ]
        }
      ]
    }
  ]
}